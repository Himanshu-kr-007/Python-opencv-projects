{
 "cells": [
  {
   "cell_type": "code",
   "execution_count": 1,
   "id": "33478808",
   "metadata": {},
   "outputs": [],
   "source": [
    "import numpy as np"
   ]
  },
  {
   "cell_type": "code",
   "execution_count": 2,
   "id": "48467738",
   "metadata": {},
   "outputs": [],
   "source": [
    "import cv2 as cv"
   ]
  },
  {
   "cell_type": "markdown",
   "id": "cf923e16",
   "metadata": {},
   "source": [
    "# Creating Collage Of IronMan and Thor"
   ]
  },
  {
   "cell_type": "code",
   "execution_count": 3,
   "id": "463f71e8",
   "metadata": {},
   "outputs": [],
   "source": [
    "Image1 = cv.imread(\"Ironman.jpg\")\n",
    "Image2 = cv.imread(\"Thor.jpg\")\n",
    "Collage = np.hstack((Image1,Image2))\n",
    "cv.imshow(\"Collage\", Collage)\n",
    "cv.waitKey()\n",
    "cv.destroyAllWindows()"
   ]
  },
  {
   "cell_type": "code",
   "execution_count": null,
   "id": "dfe7ad06",
   "metadata": {},
   "outputs": [],
   "source": []
  }
 ],
 "metadata": {
  "kernelspec": {
   "display_name": "Python 3",
   "language": "python",
   "name": "python3"
  },
  "language_info": {
   "codemirror_mode": {
    "name": "ipython",
    "version": 3
   },
   "file_extension": ".py",
   "mimetype": "text/x-python",
   "name": "python",
   "nbconvert_exporter": "python",
   "pygments_lexer": "ipython3",
   "version": "3.8.8"
  }
 },
 "nbformat": 4,
 "nbformat_minor": 5
}
